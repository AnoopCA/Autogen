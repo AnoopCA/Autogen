{
 "cells": [
  {
   "cell_type": "code",
   "execution_count": 2,
   "id": "4c8bc6d1",
   "metadata": {},
   "outputs": [],
   "source": [
    "import os\n",
    "import sys\n",
    "from autogen import AssistantAgent, GroupChat, GroupChatManager\n",
    "\n",
    "sys.path.append(os.path.abspath(\"..\"))\n",
    "from llm_config import llm_config"
   ]
  },
  {
   "cell_type": "code",
   "execution_count": null,
   "id": "60e759ff",
   "metadata": {},
   "outputs": [],
   "source": []
  }
 ],
 "metadata": {
  "kernelspec": {
   "display_name": "autogen",
   "language": "python",
   "name": "python3"
  },
  "language_info": {
   "codemirror_mode": {
    "name": "ipython",
    "version": 3
   },
   "file_extension": ".py",
   "mimetype": "text/x-python",
   "name": "python",
   "nbconvert_exporter": "python",
   "pygments_lexer": "ipython3",
   "version": "3.11.5"
  }
 },
 "nbformat": 4,
 "nbformat_minor": 5
}
