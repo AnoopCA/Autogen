{
 "cells": [
  {
   "cell_type": "code",
   "execution_count": 2,
   "id": "b6b4ec1d",
   "metadata": {},
   "outputs": [],
   "source": [
    "import os\n",
    "import sys\n",
    "from autogen import AssistantAgent\n",
    "\n",
    "sys.path.append(os.path.abspath(\"..\"))\n",
    "from llm_config import llm_config"
   ]
  },
  {
   "cell_type": "code",
   "execution_count": 3,
   "id": "4f133118",
   "metadata": {},
   "outputs": [
    {
     "name": "stdout",
     "output_type": "stream",
     "text": [
      "\u001b[33masst_1\u001b[0m (to asst_2):\n",
      "\n",
      "Ask your questions regarding python.\n",
      "\n",
      "--------------------------------------------------------------------------------\n",
      "\u001b[33masst_2\u001b[0m (to asst_1):\n",
      "\n",
      "Who owns tensorflow? Answer me in one or two words.\n",
      "\n",
      "--------------------------------------------------------------------------------\n",
      "\u001b[33masst_1\u001b[0m (to asst_2):\n",
      "\n",
      "Google.\n",
      "\n",
      "--------------------------------------------------------------------------------\n",
      "\u001b[33masst_2\u001b[0m (to asst_1):\n",
      "\n",
      "DONE\n",
      "\n",
      "--------------------------------------------------------------------------------\n",
      "\u001b[31m\n",
      ">>>>>>>> TERMINATING RUN (c9ac1b77-ab75-4103-af53-224e510d3448): Termination message condition on agent 'asst_1' met\u001b[0m\n"
     ]
    },
    {
     "data": {
      "text/plain": [
       "ChatResult(chat_id=None, chat_history=[{'content': 'Ask your questions regarding python.', 'role': 'assistant', 'name': 'asst_1'}, {'content': 'Who owns tensorflow? Answer me in one or two words.', 'role': 'user', 'name': 'asst_2'}, {'content': 'Google.', 'role': 'assistant', 'name': 'asst_1'}, {'content': 'DONE', 'role': 'user', 'name': 'asst_2'}], summary='DONE', cost={'usage_including_cached_inference': {'total_cost': 9.749999999999998e-06, 'gpt-4o-mini-2024-07-18': {'cost': 9.749999999999998e-06, 'prompt_tokens': 53, 'completion_tokens': 3, 'total_tokens': 56}}, 'usage_excluding_cached_inference': {'total_cost': 9.749999999999998e-06, 'gpt-4o-mini-2024-07-18': {'cost': 9.749999999999998e-06, 'prompt_tokens': 53, 'completion_tokens': 3, 'total_tokens': 56}}}, human_input=[])"
      ]
     },
     "execution_count": 3,
     "metadata": {},
     "output_type": "execute_result"
    }
   ],
   "source": [
    "asst_1 = AssistantAgent(\n",
    "        \"asst_1\",\n",
    "        system_message = \"You are a python code expert answer to questions.\",\n",
    "        llm_config = llm_config,\n",
    "        human_input_mode = \"NEVER\",\n",
    "        is_termination_msg = lambda msg: 'done' in msg['content'].lower()\n",
    ")\n",
    "\n",
    "asst_2 = AssistantAgent(\n",
    "        \"asst_2\",\n",
    "        system_message = \"You are a student learning Python and have questions on tensorflow.\",\n",
    "        llm_config = llm_config,\n",
    "        human_input_mode = \"ALWAYS\"\n",
    ")\n",
    "\n",
    "asst_1.initiate_chat(\n",
    "        asst_2,\n",
    "        message = \"Ask your questions regarding python.\"\n",
    ")"
   ]
  },
  {
   "cell_type": "code",
   "execution_count": null,
   "id": "050ce430",
   "metadata": {},
   "outputs": [
    {
     "name": "stdout",
     "output_type": "stream",
     "text": [
      "\u001b[33masst_1\u001b[0m (to asst_2):\n",
      "\n",
      "Ask a question regarding python.\n",
      "\n",
      "--------------------------------------------------------------------------------\n",
      "\u001b[33masst_2\u001b[0m (to asst_1):\n",
      "\n",
      "What is the difference between a list and a tuple in Python?\n",
      "\n",
      "--------------------------------------------------------------------------------\n",
      "\u001b[33masst_1\u001b[0m (to asst_2):\n",
      "\n",
      "The main difference is that lists are mutable (can be changed) while tuples are immutable (cannot be changed).\n",
      "\n",
      "--------------------------------------------------------------------------------\n",
      "\u001b[33masst_2\u001b[0m (to asst_1):\n",
      "\n",
      "That's correct! In Python, lists can be modified after their creation, meaning you can add, remove, or change items. In contrast, tuples are fixed and cannot be altered once defined, making them suitable for storing data that should not be changed. This characteristic also makes tuples generally faster for certain operations compared to lists. Do you have any further questions about lists, tuples, or other data structures in Python?\n",
      "\n",
      "--------------------------------------------------------------------------------\n",
      "\u001b[31m\n",
      ">>>>>>>> TERMINATING RUN (5ac3eb9e-005e-4485-9a6e-a0640ff701f3): Maximum turns (2) reached\u001b[0m\n"
     ]
    },
    {
     "data": {
      "text/plain": [
       "ChatResult(chat_id=None, chat_history=[{'content': 'Ask a question regarding python.', 'role': 'assistant', 'name': 'asst_1'}, {'content': 'What is the difference between a list and a tuple in Python?', 'role': 'user', 'name': 'asst_2'}, {'content': 'The main difference is that lists are mutable (can be changed) while tuples are immutable (cannot be changed).', 'role': 'assistant', 'name': 'asst_1'}, {'content': \"That's correct! In Python, lists can be modified after their creation, meaning you can add, remove, or change items. In contrast, tuples are fixed and cannot be altered once defined, making them suitable for storing data that should not be changed. This characteristic also makes tuples generally faster for certain operations compared to lists. Do you have any further questions about lists, tuples, or other data structures in Python?\", 'role': 'user', 'name': 'asst_2'}], summary=\"That's correct! In Python, lists can be modified after their creation, meaning you can add, remove, or change items. In contrast, tuples are fixed and cannot be altered once defined, making them suitable for storing data that should not be changed. This characteristic also makes tuples generally faster for certain operations compared to lists. Do you have any further questions about lists, tuples, or other data structures in Python?\", cost={'usage_including_cached_inference': {'total_cost': 0.00010259999999999999, 'gpt-4o-mini-2024-07-18': {'cost': 0.00010259999999999999, 'prompt_tokens': 204, 'completion_tokens': 120, 'total_tokens': 324}}, 'usage_excluding_cached_inference': {'total_cost': 0.00010259999999999999, 'gpt-4o-mini-2024-07-18': {'cost': 0.00010259999999999999, 'prompt_tokens': 204, 'completion_tokens': 120, 'total_tokens': 324}}}, human_input=[])"
      ]
     },
     "execution_count": 8,
     "metadata": {},
     "output_type": "execute_result"
    }
   ],
   "source": [
    "asst_1 = AssistantAgent(\n",
    "        \"asst_1\",\n",
    "        system_message = \"You are a python code expert answer to questions. Provide the answer in a single sentence less than 50 words.\",\n",
    "        llm_config = llm_config,\n",
    "        human_input_mode = \"NEVER\",\n",
    "        is_termination_msg = lambda msg: 'done' in msg['content'].lower(),\n",
    "        #max_consecutive_auto_reply = 2\n",
    ")\n",
    "\n",
    "asst_2 = AssistantAgent(\n",
    "        \"asst_2\",\n",
    "        system_message = \"You are a student learning Python. You must ask a single question. Do not list multiple questions.\",\n",
    "        llm_config = llm_config,\n",
    "        human_input_mode = \"NEVER\"\n",
    ")\n",
    "\n",
    "asst_1.initiate_chat(\n",
    "        asst_2,\n",
    "        message = \"Ask a question regarding python.\",\n",
    "        max_turns = 2\n",
    ")"
   ]
  },
  {
   "cell_type": "code",
   "execution_count": null,
   "id": "0538b45b",
   "metadata": {},
   "outputs": [
    {
     "name": "stdout",
     "output_type": "stream",
     "text": [
      "\u001b[33masst_1\u001b[0m (to asst_2):\n",
      "\n",
      "Say something fun!\n",
      "\n",
      "--------------------------------------------------------------------------------\n",
      "\u001b[33masst_2\u001b[0m (to asst_1):\n",
      "\n",
      "\n",
      "\n",
      "--------------------------------------------------------------------------------\n",
      "\u001b[33masst_1\u001b[0m (to asst_2):\n",
      "\n",
      "\n",
      "\n",
      "--------------------------------------------------------------------------------\n",
      "\u001b[33masst_2\u001b[0m (to asst_1):\n",
      "\n",
      "\n",
      "\n",
      "--------------------------------------------------------------------------------\n",
      "\u001b[31m\n",
      ">>>>>>>> TERMINATING RUN (daa40f58-01ac-49ca-af2f-040b30ab1681): Maximum turns (2) reached\u001b[0m\n"
     ]
    },
    {
     "data": {
      "text/plain": [
       "ChatResult(chat_id=None, chat_history=[{'content': 'Say something fun!', 'role': 'assistant', 'name': 'asst_1'}, {'content': '', 'role': 'user', 'name': 'asst_2'}, {'content': '', 'role': 'assistant', 'name': 'asst_1'}, {'content': '', 'role': 'user', 'name': 'asst_2'}], summary='', cost={'usage_including_cached_inference': {'total_cost': 0}, 'usage_excluding_cached_inference': {'total_cost': 0}}, human_input=[])"
      ]
     },
     "metadata": {},
     "output_type": "display_data"
    }
   ],
   "source": [
    "asst_1 = AssistantAgent(\n",
    "        \"asst_1\"\n",
    ")\n",
    "\n",
    "asst_2 = AssistantAgent(\n",
    "        \"asst_2\"\n",
    ")\n",
    "\n",
    "asst_1.initiate_chat(\n",
    "        asst_2,\n",
    "        message = \"Say something fun!\",\n",
    "        max_turns = 2\n",
    ")"
   ]
  },
  {
   "cell_type": "code",
   "execution_count": null,
   "id": "32c712a7",
   "metadata": {},
   "outputs": [],
   "source": []
  }
 ],
 "metadata": {
  "kernelspec": {
   "display_name": "autogen",
   "language": "python",
   "name": "python3"
  },
  "language_info": {
   "codemirror_mode": {
    "name": "ipython",
    "version": 3
   },
   "file_extension": ".py",
   "mimetype": "text/x-python",
   "name": "python",
   "nbconvert_exporter": "python",
   "pygments_lexer": "ipython3",
   "version": "3.11.5"
  }
 },
 "nbformat": 4,
 "nbformat_minor": 5
}
